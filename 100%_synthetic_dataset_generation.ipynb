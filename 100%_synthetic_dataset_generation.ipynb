{
 "cells": [
  {
   "cell_type": "markdown",
   "id": "a66cfe13",
   "metadata": {},
   "source": [
    "Importing necessary libraries and API key for using Chat GPT"
   ]
  },
  {
   "cell_type": "code",
   "execution_count": null,
   "id": "81e81fe5",
   "metadata": {},
   "outputs": [],
   "source": [
    "import pandas as pd\n",
    "import re"
   ]
  },
  {
   "cell_type": "code",
   "execution_count": 5,
   "id": "f2af7e77",
   "metadata": {},
   "outputs": [],
   "source": [
    "import openai\n",
    "Preste_key = \"Your API\"\n",
    "openai.api_key = Preste_key"
   ]
  },
  {
   "cell_type": "markdown",
   "id": "66253ac4",
   "metadata": {},
   "source": [
    "Form requests that can generate us sentences with necessary intentions"
   ]
  },
  {
   "cell_type": "code",
   "execution_count": 6,
   "id": "2dda2c93",
   "metadata": {},
   "outputs": [],
   "source": [
    "request_transfert = f\"écris 100 phrases qui contiennent l'intention de demander un transfert bancaire. N'inclus pas l'information supplémentaire. Seulement l'intention de demander un transfert bancaire\" \\\n",
    "                        'Exemple de sortie: [\"phrase_1\", \"phrase_2\"]'\n",
    "request_cancel = f\"écris 100 phrases qui contiennent l'intention d'annuler la réservation d'une chambre d'hôtel. N'inclus pas l'information supplémentaire. Seulement l'intention d'annuler la réservation d'une chambre d'hôtel.\" \\\n",
    "                        'Exemple de sortie: [\"phrase_1\", \"phrase_2\"]'\n",
    "request_bagage_perdu = f\"écris 100 phrases qui contiennent l'intention de trouver un bagage perdu. N'inclus pas l'information supplémentaire. Seulement l'intention de trouver un bagage perdu.\" \\\n",
    "                        'Exemple de sortie: [\"phrase_1\", \"phrase_2\"]'\n",
    "request_voyage = f\"écris 100 phrases qui contiennent l'intention de suggérer un voyage. N'inclus pas l'information supplémentaire. Seulement l'intention de suggérer un voyage.\" \\\n",
    "                        'Exemple de sortie: [\"phrase_1\", \"phrase_2\"]'\n",
    "request_hotel = f\"écris 100 phrases qui contiennent l'intention de réserver une chambre d'hôtel. N'inclus pas l'information supplémentaire. Seulement l'intention de réserver une chambre d'hôtel.\" \\\n",
    "                        'Exemple de sortie: [\"phrase_1\", \"phrase_2\"]'\n",
    "request_resto = f\"écris 100 phrases qui contiennent l'intention de réserver une table au restaurant. N'inclus pas l'information supplémentaire. Seulement l'intention de réserver une table au restaurant.\" \\\n",
    "                        'Exemple de sortie: [\"phrase_1\", \"phrase_2\"]'\n",
    "request_flight = f\"écris 100 phrases qui contiennent l'intention de réserver un vol. N'inclus pas l'information supplémentaire. Seulement l'intention de réserver un vol.\" \\\n",
    "                        'Exemple de sortie: [\"phrase_1\", \"phrase_2\"]'\n",
    "request_info_flight = f\"écris 100 phrases qui contiennent l'intention de se renseigner sur un vol. N'inclus pas l'information supplémentaire. Seulement l'intention de se renseigner sur un vol.\" \\\n",
    "                        'Exemple de sortie: [\"phrase_1\", \"phrase_2\"]'\n",
    "request_visa = f\"écris 100 phrases qui contiennent l'intention de se renseigner sur le visa. N'inclus pas l'information supplémentaire. Seulement l'intention de se renseigner sur le visa.\" \\\n",
    "                        'Exemple de sortie: [\"phrase_1\", \"phrase_2\"]'\n",
    "request_car = f\"écris 100 phrases qui contiennent l'intention de louer un véhicule (voiture, vélo, scooter etc.). N'inclus pas l'information supplémentaire. Seulement l'intention de louer un véhicule (voiture, vélo, scooter etc.).\" \\\n",
    "                        'Exemple de sortie: [\"phrase_1\", \"phrase_2\"]'\n",
    "all_requests = [request_transfert, request_cancel, request_bagage_perdu, request_voyage, request_hotel, request_resto, request_flight, request_info_flight, request_visa, request_car]"
   ]
  },
  {
   "cell_type": "markdown",
   "id": "21a3dda6",
   "metadata": {},
   "source": [
    "Generate requests for Chat GPT"
   ]
  },
  {
   "cell_type": "code",
   "execution_count": 7,
   "id": "0dc84453",
   "metadata": {},
   "outputs": [],
   "source": [
    "def generate_phrases(request):\n",
    "    completion = openai.ChatCompletion.create(model=\"gpt-3.5-turbo\",\n",
    "                                            messages=[{\"role\": \"user\", \"content\": request}]\n",
    "                                            )\n",
    "                #print(completion.choices[0].message.content)\n",
    "\n",
    "    tmp_res = completion.choices[0].message.content\n",
    "    return tmp_res"
   ]
  },
  {
   "cell_type": "markdown",
   "id": "4667e5cd",
   "metadata": {},
   "source": [
    "Preprocessing of Chat GPT outputs"
   ]
  },
  {
   "cell_type": "code",
   "execution_count": 8,
   "id": "b7afc219",
   "metadata": {},
   "outputs": [],
   "source": [
    "def preprocess_phrases(tmp_res):\n",
    "    lst_of_sent = tmp_res.split(\"\\n\")\n",
    "    lst_of_sent_nodigits = []\n",
    "    for snt in lst_of_sent:\n",
    "        result = ''.join([i for i in snt if not i.isdigit()])\n",
    "        lst_of_sent_nodigits.append(result)\n",
    "    #print(lst_of_sent_nodigits)\n",
    "    lst_of_sentences = []\n",
    "    for snt in lst_of_sent_nodigits:\n",
    "        snt = snt.lstrip(\".\")\n",
    "        lst_of_sentences.append(snt)\n",
    "    return lst_of_sentences"
   ]
  },
  {
   "cell_type": "markdown",
   "id": "6088a6f4",
   "metadata": {},
   "source": [
    "Generate sentences with requested intents"
   ]
  },
  {
   "cell_type": "code",
   "execution_count": 15,
   "id": "757185e8",
   "metadata": {},
   "outputs": [],
   "source": [
    "def generate_all_phrases(all_requests):\n",
    "    lst_phrases = []\n",
    "    for request in all_requests:\n",
    "        tmp_res = generate_phrases(request)\n",
    "        lst_phrases.append(preprocess_phrases(tmp_res))\n",
    "    return lst_phrases       "
   ]
  },
  {
   "cell_type": "code",
   "execution_count": 17,
   "id": "3dc20034",
   "metadata": {},
   "outputs": [],
   "source": [
    "all_phrases = generate_all_phrases(all_requests)"
   ]
  },
  {
   "cell_type": "markdown",
   "id": "57b22229",
   "metadata": {},
   "source": [
    "Form request to generate labels and rationals"
   ]
  },
  {
   "cell_type": "code",
   "execution_count": 18,
   "id": "0d870b05",
   "metadata": {},
   "outputs": [],
   "source": [
    "def generate_request(phrase):\n",
    "\n",
    "    request = f\"phrase: {phrase}.\\n\" \\\n",
    "                \"définis l'intention de cette phrase. Exemple: transfert bancaire, bagage perdu, réservation d'hôtel, réservation de restaurant, réservation de vol, annulation de réservation, location de voiture, suggestion de voyage, visa international, état du vol\" \\\n",
    "                \"explique pourquoi tu as choisi cette intention. Exemple: j'ai défini cette intention parce que + explication.\\n\" \\\n",
    "                'output as a dictionary. No additional text. Use template\\n' \\\n",
    "                '{\"phrase\":phrase, \"label\":intention, \"explication\":explication.'\n",
    "    return request"
   ]
  },
  {
   "cell_type": "markdown",
   "id": "4c17b208",
   "metadata": {},
   "source": [
    "Generate labels and rationals with Chat GPT"
   ]
  },
  {
   "cell_type": "code",
   "execution_count": 29,
   "id": "b04a37e1",
   "metadata": {},
   "outputs": [],
   "source": [
    "def generate_rationals(lst_of_sentences):\n",
    "    #all_info_lst = []\n",
    "    all_info_sent = []\n",
    "    for lst in lst_of_sentences:\n",
    "        for sent in lst:\n",
    "            tmp_req = generate_request(lst)\n",
    "                # print(tmp_req)\n",
    "            completion = openai.ChatCompletion.create(\n",
    "                  model=\"gpt-3.5-turbo\",\n",
    "                  messages=[\n",
    "                    {\"role\": \"user\", \"content\": tmp_req}\n",
    "                  ]\n",
    "                )\n",
    "            #print(completion.choices[0].message.content)\n",
    "\n",
    "            tmp_res = completion.choices[0].message.content\n",
    "\n",
    "            all_info_sent.append(tmp_res)\n",
    "    #all_info_lst.append(all_info_sent)\n",
    "    return all_info_sent"
   ]
  },
  {
   "cell_type": "code",
   "execution_count": 30,
   "id": "49aa874a",
   "metadata": {},
   "outputs": [],
   "source": [
    "lst_labels_rationals = generate_rationals(all_phrases)"
   ]
  },
  {
   "cell_type": "markdown",
   "id": "ba273eb0",
   "metadata": {},
   "source": [
    "Dataset transformation in dataframe"
   ]
  },
  {
   "cell_type": "code",
   "execution_count": 66,
   "id": "dfb874cb",
   "metadata": {},
   "outputs": [],
   "source": [
    "def dataset_formation(lst_labels_rationals):\n",
    "    lst_phrases = []\n",
    "    lst_labels = []\n",
    "    lst_rationals = []\n",
    "    for dct in lst_labels_rationals:\n",
    "        try:\n",
    "            dct = eval(dct)\n",
    "        except SyntaxError:\n",
    "            #print(dct)\n",
    "            continue\n",
    "        for sent in dct[\"phrase\"]:\n",
    "            #print(sent)\n",
    "            lst_phrases.append(sent)\n",
    "            lst_labels.append(dct[\"label\"])\n",
    "            lst_rationals.append(dct[\"explication\"])\n",
    "    data = {\"Phrases\": lst_phrases, \"Labels\": lst_labels, \"Rationals\": lst_rationals}\n",
    "    df = pd.DataFrame(data)\n",
    "    return df"
   ]
  },
  {
   "cell_type": "code",
   "execution_count": 67,
   "id": "96ffdb29",
   "metadata": {},
   "outputs": [],
   "source": [
    "generated_dataset = dataset_formation(lst_labels_rationals)"
   ]
  },
  {
   "cell_type": "markdown",
   "id": "7fb32a93",
   "metadata": {},
   "source": [
    "Saving to csv"
   ]
  },
  {
   "cell_type": "code",
   "execution_count": 68,
   "id": "6e32e848",
   "metadata": {},
   "outputs": [
    {
     "data": {
      "text/html": [
       "<div>\n",
       "<style scoped>\n",
       "    .dataframe tbody tr th:only-of-type {\n",
       "        vertical-align: middle;\n",
       "    }\n",
       "\n",
       "    .dataframe tbody tr th {\n",
       "        vertical-align: top;\n",
       "    }\n",
       "\n",
       "    .dataframe thead th {\n",
       "        text-align: right;\n",
       "    }\n",
       "</style>\n",
       "<table border=\"1\" class=\"dataframe\">\n",
       "  <thead>\n",
       "    <tr style=\"text-align: right;\">\n",
       "      <th></th>\n",
       "      <th>Phrases</th>\n",
       "      <th>Labels</th>\n",
       "      <th>Rationals</th>\n",
       "    </tr>\n",
       "  </thead>\n",
       "  <tbody>\n",
       "    <tr>\n",
       "      <th>0</th>\n",
       "      <td>Est-il possible de demander un transfert banc...</td>\n",
       "      <td>transfert bancaire</td>\n",
       "      <td>J'ai choisi cette intention car toutes les phr...</td>\n",
       "    </tr>\n",
       "    <tr>\n",
       "      <th>1</th>\n",
       "      <td>Pourrais-je obtenir les informations nécessai...</td>\n",
       "      <td>transfert bancaire</td>\n",
       "      <td>J'ai choisi cette intention car toutes les phr...</td>\n",
       "    </tr>\n",
       "    <tr>\n",
       "      <th>2</th>\n",
       "      <td>Pourriez-vous m'indiquer les étapes à suivre ...</td>\n",
       "      <td>transfert bancaire</td>\n",
       "      <td>J'ai choisi cette intention car toutes les phr...</td>\n",
       "    </tr>\n",
       "    <tr>\n",
       "      <th>3</th>\n",
       "      <td>Serait-il faisable de solliciter un transfert...</td>\n",
       "      <td>transfert bancaire</td>\n",
       "      <td>J'ai choisi cette intention car toutes les phr...</td>\n",
       "    </tr>\n",
       "    <tr>\n",
       "      <th>4</th>\n",
       "      <td>Pourriez-vous m'aider à procéder à un transfe...</td>\n",
       "      <td>transfert bancaire</td>\n",
       "      <td>J'ai choisi cette intention car toutes les phr...</td>\n",
       "    </tr>\n",
       "    <tr>\n",
       "      <th>...</th>\n",
       "      <td>...</td>\n",
       "      <td>...</td>\n",
       "      <td>...</td>\n",
       "    </tr>\n",
       "    <tr>\n",
       "      <th>215</th>\n",
       "      <td>Je souhaite louer un véhicule pour me déplacer...</td>\n",
       "      <td>location de voiture</td>\n",
       "      <td>J'ai choisi cette intention car toutes les phr...</td>\n",
       "    </tr>\n",
       "    <tr>\n",
       "      <th>216</th>\n",
       "      <td>J'aimerais réserver un véhicule pour mes vacan...</td>\n",
       "      <td>location de voiture</td>\n",
       "      <td>J'ai choisi cette intention car toutes les phr...</td>\n",
       "    </tr>\n",
       "    <tr>\n",
       "      <th>217</th>\n",
       "      <td>Je suis intéressé(e) par la location d'un moye...</td>\n",
       "      <td>location de voiture</td>\n",
       "      <td>J'ai choisi cette intention car toutes les phr...</td>\n",
       "    </tr>\n",
       "    <tr>\n",
       "      <th>218</th>\n",
       "      <td>Je prévois de louer une voiture pour mon dépla...</td>\n",
       "      <td>location de voiture</td>\n",
       "      <td>J'ai choisi cette intention car toutes les phr...</td>\n",
       "    </tr>\n",
       "    <tr>\n",
       "      <th>219</th>\n",
       "      <td>Je recherche un vélo à louer pour faire du tou...</td>\n",
       "      <td>location de voiture</td>\n",
       "      <td>J'ai choisi cette intention car toutes les phr...</td>\n",
       "    </tr>\n",
       "  </tbody>\n",
       "</table>\n",
       "<p>220 rows × 3 columns</p>\n",
       "</div>"
      ],
      "text/plain": [
       "                                               Phrases               Labels  \\\n",
       "0     Est-il possible de demander un transfert banc...   transfert bancaire   \n",
       "1     Pourrais-je obtenir les informations nécessai...   transfert bancaire   \n",
       "2     Pourriez-vous m'indiquer les étapes à suivre ...   transfert bancaire   \n",
       "3     Serait-il faisable de solliciter un transfert...   transfert bancaire   \n",
       "4     Pourriez-vous m'aider à procéder à un transfe...   transfert bancaire   \n",
       "..                                                 ...                  ...   \n",
       "215  Je souhaite louer un véhicule pour me déplacer...  location de voiture   \n",
       "216  J'aimerais réserver un véhicule pour mes vacan...  location de voiture   \n",
       "217  Je suis intéressé(e) par la location d'un moye...  location de voiture   \n",
       "218  Je prévois de louer une voiture pour mon dépla...  location de voiture   \n",
       "219  Je recherche un vélo à louer pour faire du tou...  location de voiture   \n",
       "\n",
       "                                             Rationals  \n",
       "0    J'ai choisi cette intention car toutes les phr...  \n",
       "1    J'ai choisi cette intention car toutes les phr...  \n",
       "2    J'ai choisi cette intention car toutes les phr...  \n",
       "3    J'ai choisi cette intention car toutes les phr...  \n",
       "4    J'ai choisi cette intention car toutes les phr...  \n",
       "..                                                 ...  \n",
       "215  J'ai choisi cette intention car toutes les phr...  \n",
       "216  J'ai choisi cette intention car toutes les phr...  \n",
       "217  J'ai choisi cette intention car toutes les phr...  \n",
       "218  J'ai choisi cette intention car toutes les phr...  \n",
       "219  J'ai choisi cette intention car toutes les phr...  \n",
       "\n",
       "[220 rows x 3 columns]"
      ]
     },
     "execution_count": 68,
     "metadata": {},
     "output_type": "execute_result"
    }
   ],
   "source": [
    "generated_dataset.to_csv(\"dataset.csv\")"
   ]
  },
  {
   "cell_type": "markdown",
   "id": "4b325a6f",
   "metadata": {},
   "source": [
    "!NB: Note that you may have some additional preprocessing according to the output you may have from Chat GPT. For example: it can add some addiotional symbols that you don't need and may need to remove. Also Chat GPT can produce some API errors, so you may need to wait in order to have a good output."
   ]
  },
  {
   "cell_type": "code",
   "execution_count": null,
   "id": "ae05ca9b",
   "metadata": {},
   "outputs": [],
   "source": []
  }
 ],
 "metadata": {
  "kernelspec": {
   "display_name": "Python 3 (ipykernel)",
   "language": "python",
   "name": "python3"
  },
  "language_info": {
   "codemirror_mode": {
    "name": "ipython",
    "version": 3
   },
   "file_extension": ".py",
   "mimetype": "text/x-python",
   "name": "python",
   "nbconvert_exporter": "python",
   "pygments_lexer": "ipython3",
   "version": "3.10.12"
  }
 },
 "nbformat": 4,
 "nbformat_minor": 5
}
