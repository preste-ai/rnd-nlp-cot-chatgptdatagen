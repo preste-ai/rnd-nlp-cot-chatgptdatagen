{
 "cells": [
  {
   "cell_type": "code",
   "execution_count": 32,
   "id": "056c368e",
   "metadata": {},
   "outputs": [],
   "source": [
    "# Load all the necessary libraries"
   ]
  },
  {
   "cell_type": "code",
   "execution_count": null,
   "id": "3c93235c",
   "metadata": {},
   "outputs": [],
   "source": [
    "import numpy as np\n",
    "import pandas as pd\n",
    "from sklearn.model_selection import train_test_split\n",
    "from sklearn.metrics import accuracy_score, recall_score, precision_score, f1_score\n",
    "import torch\n",
    "from transformers import TrainingArguments, Trainer\n",
    "from transformers import EarlyStoppingCallback\n",
    "from transformers import AutoTokenizer, FlaubertForSequenceClassification\n",
    "from sklearn import metrics"
   ]
  },
  {
   "cell_type": "code",
   "execution_count": 6,
   "id": "2d800f18",
   "metadata": {},
   "outputs": [],
   "source": [
    "# Function to open data\n",
    "def open_data(name):\n",
    "    return pd.read_csv(name, index_col=0)"
   ]
  },
  {
   "cell_type": "code",
   "execution_count": 9,
   "id": "6f44f92e",
   "metadata": {},
   "outputs": [],
   "source": [
    "# Read data\n",
    "train_data = open_data(\"Path to you train_set\")"
   ]
  },
  {
   "cell_type": "code",
   "execution_count": 13,
   "id": "dacc45f8",
   "metadata": {},
   "outputs": [
    {
     "name": "stderr",
     "output_type": "stream",
     "text": [
      "Some weights of the model checkpoint at flaubert/flaubert_base_cased were not used when initializing FlaubertForSequenceClassification: ['pred_layer.proj.weight', 'pred_layer.proj.bias']\n",
      "- This IS expected if you are initializing FlaubertForSequenceClassification from the checkpoint of a model trained on another task or with another architecture (e.g. initializing a BertForSequenceClassification model from a BertForPreTraining model).\n",
      "- This IS NOT expected if you are initializing FlaubertForSequenceClassification from the checkpoint of a model that you expect to be exactly identical (initializing a BertForSequenceClassification model from a BertForSequenceClassification model).\n",
      "Some weights of FlaubertForSequenceClassification were not initialized from the model checkpoint at flaubert/flaubert_base_cased and are newly initialized: ['sequence_summary.summary.bias', 'sequence_summary.summary.weight']\n",
      "You should probably TRAIN this model on a down-stream task to be able to use it for predictions and inference.\n"
     ]
    }
   ],
   "source": [
    "# Define pretrained tokenizer and model\n",
    "\n",
    "model_name = 'flaubert/flaubert_base_cased'\n",
    "tokenizer = AutoTokenizer.from_pretrained(model_name)\n",
    "model = FlaubertForSequenceClassification.from_pretrained(model_name, num_labels=11)"
   ]
  },
  {
   "cell_type": "code",
   "execution_count": null,
   "id": "783730a5",
   "metadata": {},
   "outputs": [],
   "source": [
    "# Preprocess data\n",
    "X = list(train_data[\"Phrases\"])\n",
    "y = list(train_data[\"Labels\"])\n",
    "X_train, X_val, y_train, y_val = train_test_split(X, y, test_size=0.2)\n",
    "X_train_tokenized = tokenizer(X_train, padding=True, truncation=True, max_length=512)\n",
    "X_val_tokenized = tokenizer(X_val, padding=True, truncation=True, max_length=512)"
   ]
  },
  {
   "cell_type": "code",
   "execution_count": 14,
   "id": "95e767bc",
   "metadata": {},
   "outputs": [],
   "source": [
    "# Create torch dataset\n",
    "class Dataset(torch.utils.data.Dataset):\n",
    "    def __init__(self, encodings, labels=None):\n",
    "        self.encodings = encodings\n",
    "        self.labels = labels\n",
    "\n",
    "    def __getitem__(self, idx):\n",
    "        item = {key: torch.tensor(val[idx]) for key, val in self.encodings.items()}\n",
    "        if self.labels:\n",
    "            item[\"labels\"] = torch.tensor(self.labels[idx])\n",
    "        return item\n",
    "\n",
    "    def __len__(self):\n",
    "        return len(self.encodings[\"input_ids\"])"
   ]
  },
  {
   "cell_type": "code",
   "execution_count": null,
   "id": "91dbb360",
   "metadata": {},
   "outputs": [],
   "source": [
    "train_dataset = Dataset(X_train_tokenized, y_train)\n",
    "val_dataset = Dataset(X_val_tokenized, y_val)"
   ]
  },
  {
   "cell_type": "code",
   "execution_count": null,
   "id": "a1c83082",
   "metadata": {},
   "outputs": [],
   "source": [
    "type(train_dataset)"
   ]
  },
  {
   "cell_type": "code",
   "execution_count": 22,
   "id": "b6c473aa",
   "metadata": {},
   "outputs": [],
   "source": [
    "# ----- 2. Fine-tune pretrained model -----#\n",
    "# Define Trainer parameters\n",
    "def compute_metrics(pred, labels):\n",
    "    #pred, labels = p\n",
    "    pred = np.argmax(pred, axis=1)\n",
    "\n",
    "    accuracy = accuracy_score(y_true=labels, y_pred=pred)\n",
    "    recall = recall_score(y_true=labels, y_pred=pred,  average='weighted')\n",
    "    precision = precision_score(y_true=labels, y_pred=pred, average='weighted')\n",
    "    f1 = f1_score(y_true=labels, y_pred=pred, average='weighted')\n",
    "\n",
    "    return {\"accuracy\": accuracy, \"precision\": precision, \"recall\": recall, \"f1\": f1}"
   ]
  },
  {
   "cell_type": "code",
   "execution_count": null,
   "id": "057cfe7e",
   "metadata": {},
   "outputs": [],
   "source": [
    "# Define Trainer\n",
    "args = TrainingArguments(\n",
    "    output_dir=\"output\",\n",
    "    evaluation_strategy=\"steps\",\n",
    "    eval_steps=500,\n",
    "    per_device_train_batch_size=8,\n",
    "    per_device_eval_batch_size=8,\n",
    "    num_train_epochs=100,\n",
    "    save_steps=1000,\n",
    "    seed=0,\n",
    "    load_best_model_at_end=True,\n",
    ")\n",
    "trainer = Trainer(\n",
    "    model=model,\n",
    "    args=args,\n",
    "    train_dataset=train_dataset,\n",
    "    eval_dataset=val_dataset,\n",
    "    compute_metrics=compute_metrics,\n",
    "    callbacks=[EarlyStoppingCallback(early_stopping_patience=5)],\n",
    ")\n"
   ]
  },
  {
   "cell_type": "code",
   "execution_count": null,
   "id": "20e558fd",
   "metadata": {},
   "outputs": [],
   "source": [
    "# Train pre-trained model\n",
    "trainer.train()"
   ]
  },
  {
   "cell_type": "code",
   "execution_count": 11,
   "id": "aa900590",
   "metadata": {},
   "outputs": [],
   "source": [
    "# Upload your test data\n",
    "test_data = open_data(\"Path to your test_set\")"
   ]
  },
  {
   "cell_type": "code",
   "execution_count": 23,
   "id": "01c35da6",
   "metadata": {},
   "outputs": [
    {
     "data": {
      "text/html": [
       "<div>\n",
       "<style scoped>\n",
       "    .dataframe tbody tr th:only-of-type {\n",
       "        vertical-align: middle;\n",
       "    }\n",
       "\n",
       "    .dataframe tbody tr th {\n",
       "        vertical-align: top;\n",
       "    }\n",
       "\n",
       "    .dataframe thead th {\n",
       "        text-align: right;\n",
       "    }\n",
       "</style>\n",
       "<table border=\"1\" class=\"dataframe\">\n",
       "  <thead>\n",
       "    <tr style=\"text-align: right;\">\n",
       "      <th></th>\n",
       "      <th>text-fr</th>\n",
       "      <th>intent-fr</th>\n",
       "      <th>labels</th>\n",
       "    </tr>\n",
       "  </thead>\n",
       "  <tbody>\n",
       "    <tr>\n",
       "      <th>423</th>\n",
       "      <td>pouvez-vous me procurer une table pour 5 à joh...</td>\n",
       "      <td>réservation_de_restaurant</td>\n",
       "      <td>0</td>\n",
       "    </tr>\n",
       "    <tr>\n",
       "      <th>10707</th>\n",
       "      <td>obtenez-moi une chambre d’hôtel assez grande p...</td>\n",
       "      <td>réserver_un_hôtel</td>\n",
       "      <td>9</td>\n",
       "    </tr>\n",
       "    <tr>\n",
       "      <th>10696</th>\n",
       "      <td>J’ai besoin d’obtenir une chambre d’hôtel asse...</td>\n",
       "      <td>réserver_un_hôtel</td>\n",
       "      <td>9</td>\n",
       "    </tr>\n",
       "    <tr>\n",
       "      <th>7079</th>\n",
       "      <td>quand mon vol atterrira-t-il</td>\n",
       "      <td>état_du_vol</td>\n",
       "      <td>5</td>\n",
       "    </tr>\n",
       "    <tr>\n",
       "      <th>2309</th>\n",
       "      <td>Je vais bientôt en Allemagne ai-je besoin d’un...</td>\n",
       "      <td>visa_international</td>\n",
       "      <td>4</td>\n",
       "    </tr>\n",
       "    <tr>\n",
       "      <th>...</th>\n",
       "      <td>...</td>\n",
       "      <td>...</td>\n",
       "      <td>...</td>\n",
       "    </tr>\n",
       "    <tr>\n",
       "      <th>5166</th>\n",
       "      <td>quels hôtels sont à proximité, ny, ny pour le ...</td>\n",
       "      <td>réserver_un_hôtel</td>\n",
       "      <td>9</td>\n",
       "    </tr>\n",
       "    <tr>\n",
       "      <th>1671</th>\n",
       "      <td>annuler la réservation du dîner de ce soir</td>\n",
       "      <td>annuler_la_réservation</td>\n",
       "      <td>2</td>\n",
       "    </tr>\n",
       "    <tr>\n",
       "      <th>14504</th>\n",
       "      <td>J’ai besoin d’un vol de denver international à...</td>\n",
       "      <td>réserver_un_vol</td>\n",
       "      <td>7</td>\n",
       "    </tr>\n",
       "    <tr>\n",
       "      <th>14835</th>\n",
       "      <td>puis-je louer une voiture de l’aéroport de dfw...</td>\n",
       "      <td>location_de_voiture</td>\n",
       "      <td>8</td>\n",
       "    </tr>\n",
       "    <tr>\n",
       "      <th>11740</th>\n",
       "      <td>siri, réservez une location de voiture pour le...</td>\n",
       "      <td>location_de_voiture</td>\n",
       "      <td>8</td>\n",
       "    </tr>\n",
       "  </tbody>\n",
       "</table>\n",
       "<p>898 rows × 3 columns</p>\n",
       "</div>"
      ],
      "text/plain": [
       "                                                 text-fr  \\\n",
       "423    pouvez-vous me procurer une table pour 5 à joh...   \n",
       "10707  obtenez-moi une chambre d’hôtel assez grande p...   \n",
       "10696  J’ai besoin d’obtenir une chambre d’hôtel asse...   \n",
       "7079                        quand mon vol atterrira-t-il   \n",
       "2309   Je vais bientôt en Allemagne ai-je besoin d’un...   \n",
       "...                                                  ...   \n",
       "5166   quels hôtels sont à proximité, ny, ny pour le ...   \n",
       "1671          annuler la réservation du dîner de ce soir   \n",
       "14504  J’ai besoin d’un vol de denver international à...   \n",
       "14835  puis-je louer une voiture de l’aéroport de dfw...   \n",
       "11740  siri, réservez une location de voiture pour le...   \n",
       "\n",
       "                       intent-fr  labels  \n",
       "423    réservation_de_restaurant       0  \n",
       "10707          réserver_un_hôtel       9  \n",
       "10696          réserver_un_hôtel       9  \n",
       "7079                 état_du_vol       5  \n",
       "2309          visa_international       4  \n",
       "...                          ...     ...  \n",
       "5166           réserver_un_hôtel       9  \n",
       "1671      annuler_la_réservation       2  \n",
       "14504            réserver_un_vol       7  \n",
       "14835        location_de_voiture       8  \n",
       "11740        location_de_voiture       8  \n",
       "\n",
       "[898 rows x 3 columns]"
      ]
     },
     "execution_count": 23,
     "metadata": {},
     "output_type": "execute_result"
    }
   ],
   "source": [
    "test_data"
   ]
  },
  {
   "cell_type": "code",
   "execution_count": 24,
   "id": "f6d513c0",
   "metadata": {},
   "outputs": [],
   "source": [
    "# ----- 3. Predict -----#\n",
    "# Load test data\n",
    "X_test = list(test_data[\"text-fr\"])\n",
    "y_test = list(test_data[\"labels\"])\n",
    "X_test_tokenized = tokenizer(X_test, padding=True, truncation=True, max_length=512)"
   ]
  },
  {
   "cell_type": "code",
   "execution_count": 25,
   "id": "28fed72b",
   "metadata": {},
   "outputs": [],
   "source": [
    "# Create torch dataset\n",
    "test_dataset = Dataset(X_test_tokenized)"
   ]
  },
  {
   "cell_type": "code",
   "execution_count": 26,
   "id": "e121f932",
   "metadata": {},
   "outputs": [],
   "source": [
    "# Load trained mode\n",
    "model_path = \"output/checkpoint-1000\"\n",
    "model = FlaubertForSequenceClassification.from_pretrained(model_path, num_labels=11)"
   ]
  },
  {
   "cell_type": "code",
   "execution_count": 27,
   "id": "fa4bb146",
   "metadata": {},
   "outputs": [],
   "source": [
    "# Define test trainer\n",
    "test_trainer = Trainer(model)"
   ]
  },
  {
   "cell_type": "code",
   "execution_count": 28,
   "id": "68277849",
   "metadata": {},
   "outputs": [
    {
     "data": {
      "text/html": [],
      "text/plain": [
       "<IPython.core.display.HTML object>"
      ]
     },
     "metadata": {},
     "output_type": "display_data"
    }
   ],
   "source": [
    "# Make prediction\n",
    "raw_pred, _, _ = test_trainer.predict(test_dataset)"
   ]
  },
  {
   "cell_type": "code",
   "execution_count": 31,
   "id": "bebe1df2",
   "metadata": {},
   "outputs": [],
   "source": [
    "#Get metrics\n",
    "compute_metrics(raw_pred, y_test)"
   ]
  },
  {
   "cell_type": "code",
   "execution_count": null,
   "id": "5c09a31e",
   "metadata": {},
   "outputs": [],
   "source": []
  }
 ],
 "metadata": {
  "kernelspec": {
   "display_name": "Python 3 (ipykernel)",
   "language": "python",
   "name": "python3"
  },
  "language_info": {
   "codemirror_mode": {
    "name": "ipython",
    "version": 3
   },
   "file_extension": ".py",
   "mimetype": "text/x-python",
   "name": "python",
   "nbconvert_exporter": "python",
   "pygments_lexer": "ipython3",
   "version": "3.10.6"
  }
 },
 "nbformat": 4,
 "nbformat_minor": 5
}
