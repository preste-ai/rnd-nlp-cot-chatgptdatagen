{
 "cells": [
  {
   "cell_type": "markdown",
   "id": "7ab2b766",
   "metadata": {},
   "source": [
    "Import necessary libraries"
   ]
  },
  {
   "cell_type": "code",
   "execution_count": 2,
   "id": "2153417f",
   "metadata": {},
   "outputs": [],
   "source": [
    "import pandas as pd\n",
    "import re\n",
    "from sklearn.metrics import classification_report, confusion_matrix, ConfusionMatrixDisplay, accuracy_score, precision_score, recall_score, f1_score"
   ]
  },
  {
   "cell_type": "code",
   "execution_count": 4,
   "id": "9d87321c",
   "metadata": {},
   "outputs": [],
   "source": [
    "import openai\n",
    "Preste_key = \"Your key\"\n",
    "openai.api_key = Preste_key"
   ]
  },
  {
   "cell_type": "markdown",
   "id": "8cd0299f",
   "metadata": {},
   "source": [
    "Upload test dataset.We explained how to generate in dataset_generation file, here you can find a link to this file https://github.com/preste-ai/rnd-nlp-cot-chatgptdatagen/blob/main/dataset_generation.ipynb"
   ]
  },
  {
   "cell_type": "code",
   "execution_count": 5,
   "id": "9f70c36f",
   "metadata": {},
   "outputs": [],
   "source": [
    "test_set = pd.read_csv('Your test set', index_col=0)"
   ]
  },
  {
   "cell_type": "markdown",
   "id": "df20f135",
   "metadata": {},
   "source": [
    "Generate request for intent recognition"
   ]
  },
  {
   "cell_type": "code",
   "execution_count": 11,
   "id": "1693e4c6",
   "metadata": {},
   "outputs": [],
   "source": [
    "def generate_request(phrase):\n",
    "\n",
    "    request = f\"phrase: {phrase}.\\n\" \\\n",
    "    \"définis l'intention de cette phrase. Les intentions possibles sont: 'réservation_de_restaurant', 'bagages_perdus', 'annuler_la_réservation', 'suggestion_de_voyage', 'visa_international', 'transfert', 'réserver_un_vol', 'location_de_voiture', 'réserver_un_hôtel', 'état_du_vol \" \\\n",
    "                'output as a dictionary. No additional text. Use template\\n' \\\n",
    "                '{\"phrase\":phrase, \"label\":intention}'\n",
    "    return request"
   ]
  },
  {
   "cell_type": "markdown",
   "id": "77dfce24",
   "metadata": {},
   "source": [
    "Run chat GPT on our data"
   ]
  },
  {
   "cell_type": "code",
   "execution_count": 1,
   "id": "b501d076",
   "metadata": {},
   "outputs": [],
   "source": [
    "def run_chatgpt(test_set):\n",
    "    lst_of_sent = test_set['text-fr'].tolist()\n",
    "    all_info_list = []\n",
    "    for lst in lst_of_sent:\n",
    "        tmp_req = generate_request(lst)\n",
    "            # print(tmp_req)\n",
    "        completion = openai.ChatCompletion.create(\n",
    "              model=\"gpt-3.5-turbo\",\n",
    "              messages=[\n",
    "                {\"role\": \"user\", \"content\": tmp_req}\n",
    "              ]\n",
    "            )\n",
    "        print(completion.choices[0].message.content)\n",
    "\n",
    "        tmp_res = completion.choices[0].message.content\n",
    "\n",
    "        all_info_list.append(tmp_res)\n",
    "        return all_info_list"
   ]
  },
  {
   "cell_type": "code",
   "execution_count": null,
   "id": "e7d55cc7",
   "metadata": {},
   "outputs": [],
   "source": [
    "all_info_list = run_chatgpt(test_set)"
   ]
  },
  {
   "cell_type": "markdown",
   "id": "a9c567d4",
   "metadata": {},
   "source": [
    "Create a column with predictions"
   ]
  },
  {
   "cell_type": "code",
   "execution_count": 27,
   "id": "e83cae5f",
   "metadata": {},
   "outputs": [],
   "source": [
    "def create_table(all_info_list):\n",
    "    lst_phrases = []\n",
    "    lst_labels = []\n",
    "    for i, dct in enumerate(all_info_list):\n",
    "        try:\n",
    "            dct = eval(dct)\n",
    "        except (SyntaxError) as error:\n",
    "            print(error)\n",
    "            print(i, dct)\n",
    "            continue\n",
    "        lst_phrases.append(dct[\"phrase\"])\n",
    "        lst_labels.append(dct[\"label\"])\n",
    "    gpt_data = {\"Phrases\": lst_phrases, \"Labels\": lst_labels}\n",
    "    gpt_df = pd.DataFrame(gpt_data)\n",
    "    gpt_df[\"Labels_encoding\"] = gpt_df['Labels'].replace({'réservation_de_restaurant' : 0, \n",
    "               'bagages_perdus' : 1, \n",
    "               'annuler_la_réservation' : 2, \n",
    "               'suggestion_de_voyage' : 3, \n",
    "               'visa_international' : 4, \n",
    "               'transfert' : 6, \n",
    "               'réserver_un_vol' : 7, \n",
    "               'location_de_voiture' : 8, \n",
    "               'réserver_un_hôtel' : 9, \n",
    "               'état_du_vol' : 5})\n",
    "    return gpt_df"
   ]
  },
  {
   "cell_type": "code",
   "execution_count": 28,
   "id": "7ea11890",
   "metadata": {},
   "outputs": [],
   "source": [
    "gpt_df = create_table(all_info_list)"
   ]
  },
  {
   "cell_type": "markdown",
   "id": "282304a3",
   "metadata": {},
   "source": [
    "Get metrics"
   ]
  },
  {
   "cell_type": "code",
   "execution_count": null,
   "id": "8bbcba78",
   "metadata": {},
   "outputs": [],
   "source": [
    "def get_metrics(y_pred, y_test): \n",
    "    test_report = classification_report(y_test, y_pred, output_dict=True)\n",
    "\n",
    "    accuracy = accuracy_score(y_test, y_pred)\n",
    "    precision = precision_score(y_test, y_pred, average='weighted')\n",
    "    recall = recall_score(y_test, y_pred, average='weighted')\n",
    "    f1 = f1_score(y_test, y_pred, average='weighted')\n",
    "\n",
    "    return test_report, accuracy, precision, recall, f1"
   ]
  },
  {
   "cell_type": "code",
   "execution_count": null,
   "id": "728056c5",
   "metadata": {},
   "outputs": [],
   "source": [
    "test_report, accuracy, precision, recall, f1 = get_metrics(test_set[\"labels\"], gpt_df[\"Labels_encoding\"])"
   ]
  },
  {
   "cell_type": "code",
   "execution_count": null,
   "id": "8c1883af",
   "metadata": {},
   "outputs": [],
   "source": [
    "print(\"Accuracy: \", accuracy)\n",
    "print(\"Precision: \", precision)\n",
    "print(\"Recall: \", recall)\n",
    "print(\"F1: \", f1)"
   ]
  }
 ],
 "metadata": {
  "kernelspec": {
   "display_name": "Python 3 (ipykernel)",
   "language": "python",
   "name": "python3"
  },
  "language_info": {
   "codemirror_mode": {
    "name": "ipython",
    "version": 3
   },
   "file_extension": ".py",
   "mimetype": "text/x-python",
   "name": "python",
   "nbconvert_exporter": "python",
   "pygments_lexer": "ipython3",
   "version": "3.10.12"
  }
 },
 "nbformat": 4,
 "nbformat_minor": 5
}
